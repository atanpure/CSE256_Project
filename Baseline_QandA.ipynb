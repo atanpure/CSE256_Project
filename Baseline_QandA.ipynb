{
 "cells": [
  {
   "cell_type": "markdown",
   "id": "d6ccd1d3",
   "metadata": {},
   "source": [
    "# Baseline model"
   ]
  },
  {
   "cell_type": "code",
   "execution_count": 75,
   "id": "3e1c6cbb",
   "metadata": {},
   "outputs": [
    {
     "name": "stdout",
     "output_type": "stream",
     "text": [
      " the main idea of the passage is to explain the importance of nlp. this is a sample passage.  it contains several sentences.  the the the the the the the the the the the the. \n"
     ]
    },
    {
     "name": "stderr",
     "output_type": "stream",
     "text": [
      "[nltk_data] Downloading package stopwords to C:\\Users\\Panini\n",
      "[nltk_data]     Bhamidipati\\AppData\\Roaming\\nltk_data...\n",
      "[nltk_data]   Package stopwords is already up-to-date!\n"
     ]
    }
   ],
   "source": [
    "import nltk\n",
    "from nltk.corpus import stopwords\n",
    "import re\n",
    "\n",
    "nltk.download('stopwords')  \n",
    "\n",
    "# Hyperparameter set based on the answer lengths of the dataset\n",
    "\n",
    "desired_answer_length = 700 \n",
    "\n",
    "\n",
    "def remove_stopwords(passage):\n",
    "    stop_words = set(stopwords.words('english'))\n",
    "    words = passage.split()\n",
    "    filtered_words = [word for word in words if word.lower() not in stop_words]\n",
    "    filtered_passage = \" \".join(filtered_words)\n",
    "    return filtered_passage\n",
    "\n",
    "\n",
    "def baseline_answer(question, passage, desired_answer_length, remove_stop_words = True):\n",
    "    \n",
    "    question = re.sub('[?]', '', question.lower())\n",
    "    question_words = set(question.split())\n",
    "    sentences = re.split('[.,!,?]', passage.lower())\n",
    "    relevant_sentences = []\n",
    "    \n",
    "    # Perform score matching between the question and passage\n",
    "    \n",
    "    for sentence in sentences:\n",
    "        if remove_stop_words:\n",
    "            filtered_question_words = set(remove_stopwords(question).split())\n",
    "            sentence_score = sum(1 for word in remove_stopwords(sentence).split() if word in filtered_question_words)\n",
    "        else:   \n",
    "            sentence_score = sum(1 for word in sentence.split() if word in question_words)\n",
    "        relevant_sentences.append((sentence_score, len(sentence.split()), sentence))\n",
    "\n",
    "    relevant_sentences.sort(key = lambda x: x[0], reverse = True)\n",
    "    cur_answer_length = 0\n",
    "    ranked_sentences = []\n",
    "    \n",
    "    # Select the top sentences based on the number of words you want in the answer \n",
    "    \n",
    "    for position, (_, length, sentence) in enumerate(relevant_sentences):\n",
    "        if cur_answer_length > desired_answer_length:\n",
    "            break\n",
    "        ranked_sentences.append((position, sentence))\n",
    "        cur_answer_length += length \n",
    "\n",
    "    ranked_sentences.sort(key = lambda x: x[0])\n",
    "    \n",
    "    # Rank the sentences based on the order in which they appear in the passage\n",
    "    \n",
    "    answer = [sentence[1] for sentence in ranked_sentences]\n",
    "    answer = \". \".join(answer)\n",
    "\n",
    "    return answer\n",
    "\n",
    "question = \"What is the main idea of the passage?\"\n",
    "passage = \"This is a sample passage. It contains several sentences. The main idea of the passage is to explain the importance of NLP. the the the the the the the the the the the the.\"\n",
    "answer = baseline_answer(question, passage, desired_answer_length)\n",
    "print(answer)\n",
    "\n",
    "\n",
    "    "
   ]
  },
  {
   "cell_type": "markdown",
   "id": "e0d5b1ac",
   "metadata": {},
   "source": [
    "# Baseline Performance Evaluation"
   ]
  },
  {
   "cell_type": "code",
   "execution_count": 76,
   "id": "aae6ba36",
   "metadata": {},
   "outputs": [],
   "source": [
    "from IPython.display import HTML, display\n",
    "\n",
    "def set_css():\n",
    "  display(HTML('''\n",
    "  <style>\n",
    "    pre {\n",
    "        white-space: pre-wrap;\n",
    "    }\n",
    "  </style>\n",
    "  '''))\n",
    "get_ipython().events.register('pre_run_cell', set_css)"
   ]
  },
  {
   "cell_type": "code",
   "execution_count": 77,
   "id": "ed81a3cc",
   "metadata": {},
   "outputs": [
    {
     "data": {
      "text/html": [
       "\n",
       "  <style>\n",
       "    pre {\n",
       "        white-space: pre-wrap;\n",
       "    }\n",
       "  </style>\n",
       "  "
      ],
      "text/plain": [
       "<IPython.core.display.HTML object>"
      ]
     },
     "metadata": {},
     "output_type": "display_data"
    }
   ],
   "source": [
    "from pathlib import Path\n",
    "from bs4 import BeautifulSoup\n",
    "import requests\n",
    "from bs4.element import Comment\n",
    "import urllib.request\n",
    "\n",
    "def tag_visible(element):\n",
    "    if element.parent.name in ['style', 'script', 'head', 'title', 'meta', '[document]']:\n",
    "        return False\n",
    "    if isinstance(element, Comment):\n",
    "        return False\n",
    "    return True\n",
    "\n",
    "def parse(url):\n",
    "    body = urllib.request.urlopen(url)\n",
    "    soup = BeautifulSoup(body, \"html.parser\")\n",
    "    texts = soup.findAll(string=True)\n",
    "    visible_texts = filter(tag_visible, texts)\n",
    "    return \"\\p \".join(t.strip() for t in visible_texts if len(t.strip())>0)"
   ]
  },
  {
   "cell_type": "code",
   "execution_count": 78,
   "id": "cb4f74d7",
   "metadata": {},
   "outputs": [
    {
     "data": {
      "text/html": [
       "\n",
       "  <style>\n",
       "    pre {\n",
       "        white-space: pre-wrap;\n",
       "    }\n",
       "  </style>\n",
       "  "
      ],
      "text/plain": [
       "<IPython.core.display.HTML object>"
      ]
     },
     "metadata": {},
     "output_type": "display_data"
    }
   ],
   "source": [
    "import xml.etree.ElementTree as ET\n",
    "import pandas as pd\n",
    "import os\n",
    "import warnings\n",
    "\n",
    "warnings.filterwarnings('ignore')\n",
    "\n",
    "xml_file = 'test_data.xml'\n",
    "\n",
    "output_df = pd.DataFrame(columns=['Question', 'Answer', 'Context'])\n",
    "qa_dict = {}\n",
    "tree = ET.parse(xml_file)\n",
    "root = tree.getroot()\n",
    "for qa_pair in root.findall(\"QAPairs\")[0]:\n",
    "  qa_dict['Question'] = qa_pair.find('Question').text\n",
    "  qa_dict['Answer'] = qa_pair.find('Answer').text\n",
    "  url = root.attrib['url']\n",
    "  qa_dict['Context'] = parse(url)\n",
    "  output_df = output_df.append(qa_dict, ignore_index=True)"
   ]
  },
  {
   "cell_type": "code",
   "execution_count": 79,
   "id": "1e135105",
   "metadata": {},
   "outputs": [
    {
     "data": {
      "text/html": [
       "\n",
       "  <style>\n",
       "    pre {\n",
       "        white-space: pre-wrap;\n",
       "    }\n",
       "  </style>\n",
       "  "
      ],
      "text/plain": [
       "<IPython.core.display.HTML object>"
      ]
     },
     "metadata": {},
     "output_type": "display_data"
    },
    {
     "data": {
      "text/html": [
       "<div>\n",
       "<style scoped>\n",
       "    .dataframe tbody tr th:only-of-type {\n",
       "        vertical-align: middle;\n",
       "    }\n",
       "\n",
       "    .dataframe tbody tr th {\n",
       "        vertical-align: top;\n",
       "    }\n",
       "\n",
       "    .dataframe thead th {\n",
       "        text-align: right;\n",
       "    }\n",
       "</style>\n",
       "<table border=\"1\" class=\"dataframe\">\n",
       "  <thead>\n",
       "    <tr style=\"text-align: right;\">\n",
       "      <th></th>\n",
       "      <th>Question</th>\n",
       "      <th>Answer</th>\n",
       "      <th>Context</th>\n",
       "    </tr>\n",
       "  </thead>\n",
       "  <tbody>\n",
       "    <tr>\n",
       "      <th>0</th>\n",
       "      <td>What is (are) Adult Acute Lymphoblastic Leukem...</td>\n",
       "      <td>Key Points\\n                    - Adult acute ...</td>\n",
       "      <td>Skip to main content\\p An official website of ...</td>\n",
       "    </tr>\n",
       "    <tr>\n",
       "      <th>1</th>\n",
       "      <td>What are the symptoms of Adult Acute Lymphobla...</td>\n",
       "      <td>Signs and symptoms of adult ALL include fever,...</td>\n",
       "      <td>Skip to main content\\p An official website of ...</td>\n",
       "    </tr>\n",
       "    <tr>\n",
       "      <th>2</th>\n",
       "      <td>How to diagnose Adult Acute Lymphoblastic Leuk...</td>\n",
       "      <td>Tests that examine the blood and bone marrow a...</td>\n",
       "      <td>Skip to main content\\p An official website of ...</td>\n",
       "    </tr>\n",
       "    <tr>\n",
       "      <th>3</th>\n",
       "      <td>What is the outlook for Adult Acute Lymphoblas...</td>\n",
       "      <td>Certain factors affect prognosis (chance of re...</td>\n",
       "      <td>Skip to main content\\p An official website of ...</td>\n",
       "    </tr>\n",
       "    <tr>\n",
       "      <th>4</th>\n",
       "      <td>Who is at risk for Adult Acute Lymphoblastic L...</td>\n",
       "      <td>Previous chemotherapy and exposure to radiatio...</td>\n",
       "      <td>Skip to main content\\p An official website of ...</td>\n",
       "    </tr>\n",
       "    <tr>\n",
       "      <th>5</th>\n",
       "      <td>What are the stages of Adult Acute Lymphoblast...</td>\n",
       "      <td>Key Points\\n                    - Once adult A...</td>\n",
       "      <td>Skip to main content\\p An official website of ...</td>\n",
       "    </tr>\n",
       "    <tr>\n",
       "      <th>6</th>\n",
       "      <td>What are the treatments for Adult Acute Lympho...</td>\n",
       "      <td>Key Points\\n                    - There are di...</td>\n",
       "      <td>Skip to main content\\p An official website of ...</td>\n",
       "    </tr>\n",
       "  </tbody>\n",
       "</table>\n",
       "</div>"
      ],
      "text/plain": [
       "                                            Question  \\\n",
       "0  What is (are) Adult Acute Lymphoblastic Leukem...   \n",
       "1  What are the symptoms of Adult Acute Lymphobla...   \n",
       "2  How to diagnose Adult Acute Lymphoblastic Leuk...   \n",
       "3  What is the outlook for Adult Acute Lymphoblas...   \n",
       "4  Who is at risk for Adult Acute Lymphoblastic L...   \n",
       "5  What are the stages of Adult Acute Lymphoblast...   \n",
       "6  What are the treatments for Adult Acute Lympho...   \n",
       "\n",
       "                                              Answer  \\\n",
       "0  Key Points\\n                    - Adult acute ...   \n",
       "1  Signs and symptoms of adult ALL include fever,...   \n",
       "2  Tests that examine the blood and bone marrow a...   \n",
       "3  Certain factors affect prognosis (chance of re...   \n",
       "4  Previous chemotherapy and exposure to radiatio...   \n",
       "5  Key Points\\n                    - Once adult A...   \n",
       "6  Key Points\\n                    - There are di...   \n",
       "\n",
       "                                             Context  \n",
       "0  Skip to main content\\p An official website of ...  \n",
       "1  Skip to main content\\p An official website of ...  \n",
       "2  Skip to main content\\p An official website of ...  \n",
       "3  Skip to main content\\p An official website of ...  \n",
       "4  Skip to main content\\p An official website of ...  \n",
       "5  Skip to main content\\p An official website of ...  \n",
       "6  Skip to main content\\p An official website of ...  "
      ]
     },
     "execution_count": 79,
     "metadata": {},
     "output_type": "execute_result"
    }
   ],
   "source": [
    "output_df"
   ]
  },
  {
   "cell_type": "code",
   "execution_count": 82,
   "id": "cb856dbf",
   "metadata": {},
   "outputs": [
    {
     "data": {
      "text/html": [
       "\n",
       "  <style>\n",
       "    pre {\n",
       "        white-space: pre-wrap;\n",
       "    }\n",
       "  </style>\n",
       "  "
      ],
      "text/plain": [
       "<IPython.core.display.HTML object>"
      ]
     },
     "metadata": {},
     "output_type": "display_data"
    }
   ],
   "source": [
    "output_df['Baseline_Answer'] = output_df.apply(lambda row: baseline_answer(row['Question'], row['Context'], desired_answer_length), axis=1)"
   ]
  },
  {
   "cell_type": "code",
   "execution_count": 83,
   "id": "0a326d39",
   "metadata": {},
   "outputs": [
    {
     "data": {
      "text/html": [
       "\n",
       "  <style>\n",
       "    pre {\n",
       "        white-space: pre-wrap;\n",
       "    }\n",
       "  </style>\n",
       "  "
      ],
      "text/plain": [
       "<IPython.core.display.HTML object>"
      ]
     },
     "metadata": {},
     "output_type": "display_data"
    },
    {
     "data": {
      "text/html": [
       "<div>\n",
       "<style scoped>\n",
       "    .dataframe tbody tr th:only-of-type {\n",
       "        vertical-align: middle;\n",
       "    }\n",
       "\n",
       "    .dataframe tbody tr th {\n",
       "        vertical-align: top;\n",
       "    }\n",
       "\n",
       "    .dataframe thead th {\n",
       "        text-align: right;\n",
       "    }\n",
       "</style>\n",
       "<table border=\"1\" class=\"dataframe\">\n",
       "  <thead>\n",
       "    <tr style=\"text-align: right;\">\n",
       "      <th></th>\n",
       "      <th>Question</th>\n",
       "      <th>Answer</th>\n",
       "      <th>Context</th>\n",
       "      <th>Baseline_Answer</th>\n",
       "    </tr>\n",
       "  </thead>\n",
       "  <tbody>\n",
       "    <tr>\n",
       "      <th>0</th>\n",
       "      <td>What is (are) Adult Acute Lymphoblastic Leukem...</td>\n",
       "      <td>Key Points\\n                    - Adult acute ...</td>\n",
       "      <td>Skip to main content\\p An official website of ...</td>\n",
       "      <td>skip to main content\\p an official website of ...</td>\n",
       "    </tr>\n",
       "    <tr>\n",
       "      <th>1</th>\n",
       "      <td>What are the symptoms of Adult Acute Lymphobla...</td>\n",
       "      <td>Signs and symptoms of adult ALL include fever,...</td>\n",
       "      <td>Skip to main content\\p An official website of ...</td>\n",
       "      <td>skip to main content\\p an official website of ...</td>\n",
       "    </tr>\n",
       "    <tr>\n",
       "      <th>2</th>\n",
       "      <td>How to diagnose Adult Acute Lymphoblastic Leuk...</td>\n",
       "      <td>Tests that examine the blood and bone marrow a...</td>\n",
       "      <td>Skip to main content\\p An official website of ...</td>\n",
       "      <td>skip to main content\\p an official website of ...</td>\n",
       "    </tr>\n",
       "    <tr>\n",
       "      <th>3</th>\n",
       "      <td>What is the outlook for Adult Acute Lymphoblas...</td>\n",
       "      <td>Certain factors affect prognosis (chance of re...</td>\n",
       "      <td>Skip to main content\\p An official website of ...</td>\n",
       "      <td>skip to main content\\p an official website of ...</td>\n",
       "    </tr>\n",
       "    <tr>\n",
       "      <th>4</th>\n",
       "      <td>Who is at risk for Adult Acute Lymphoblastic L...</td>\n",
       "      <td>Previous chemotherapy and exposure to radiatio...</td>\n",
       "      <td>Skip to main content\\p An official website of ...</td>\n",
       "      <td>skip to main content\\p an official website of ...</td>\n",
       "    </tr>\n",
       "    <tr>\n",
       "      <th>5</th>\n",
       "      <td>What are the stages of Adult Acute Lymphoblast...</td>\n",
       "      <td>Key Points\\n                    - Once adult A...</td>\n",
       "      <td>Skip to main content\\p An official website of ...</td>\n",
       "      <td>skip to main content\\p an official website of ...</td>\n",
       "    </tr>\n",
       "    <tr>\n",
       "      <th>6</th>\n",
       "      <td>What are the treatments for Adult Acute Lympho...</td>\n",
       "      <td>Key Points\\n                    - There are di...</td>\n",
       "      <td>Skip to main content\\p An official website of ...</td>\n",
       "      <td>skip to main content\\p an official website of ...</td>\n",
       "    </tr>\n",
       "  </tbody>\n",
       "</table>\n",
       "</div>"
      ],
      "text/plain": [
       "                                            Question  \\\n",
       "0  What is (are) Adult Acute Lymphoblastic Leukem...   \n",
       "1  What are the symptoms of Adult Acute Lymphobla...   \n",
       "2  How to diagnose Adult Acute Lymphoblastic Leuk...   \n",
       "3  What is the outlook for Adult Acute Lymphoblas...   \n",
       "4  Who is at risk for Adult Acute Lymphoblastic L...   \n",
       "5  What are the stages of Adult Acute Lymphoblast...   \n",
       "6  What are the treatments for Adult Acute Lympho...   \n",
       "\n",
       "                                              Answer  \\\n",
       "0  Key Points\\n                    - Adult acute ...   \n",
       "1  Signs and symptoms of adult ALL include fever,...   \n",
       "2  Tests that examine the blood and bone marrow a...   \n",
       "3  Certain factors affect prognosis (chance of re...   \n",
       "4  Previous chemotherapy and exposure to radiatio...   \n",
       "5  Key Points\\n                    - Once adult A...   \n",
       "6  Key Points\\n                    - There are di...   \n",
       "\n",
       "                                             Context  \\\n",
       "0  Skip to main content\\p An official website of ...   \n",
       "1  Skip to main content\\p An official website of ...   \n",
       "2  Skip to main content\\p An official website of ...   \n",
       "3  Skip to main content\\p An official website of ...   \n",
       "4  Skip to main content\\p An official website of ...   \n",
       "5  Skip to main content\\p An official website of ...   \n",
       "6  Skip to main content\\p An official website of ...   \n",
       "\n",
       "                                     Baseline_Answer  \n",
       "0  skip to main content\\p an official website of ...  \n",
       "1  skip to main content\\p an official website of ...  \n",
       "2  skip to main content\\p an official website of ...  \n",
       "3  skip to main content\\p an official website of ...  \n",
       "4  skip to main content\\p an official website of ...  \n",
       "5  skip to main content\\p an official website of ...  \n",
       "6  skip to main content\\p an official website of ...  "
      ]
     },
     "execution_count": 83,
     "metadata": {},
     "output_type": "execute_result"
    }
   ],
   "source": [
    "output_df"
   ]
  },
  {
   "cell_type": "code",
   "execution_count": 90,
   "id": "f53ea132",
   "metadata": {},
   "outputs": [
    {
     "data": {
      "text/html": [
       "\n",
       "  <style>\n",
       "    pre {\n",
       "        white-space: pre-wrap;\n",
       "    }\n",
       "  </style>\n",
       "  "
      ],
      "text/plain": [
       "<IPython.core.display.HTML object>"
      ]
     },
     "metadata": {},
     "output_type": "display_data"
    }
   ],
   "source": [
    "length = []\n",
    "for i in range(len(output_df['Answer'])):\n",
    "    length.append(len(output_df['Answer'].iloc[i].split()))"
   ]
  },
  {
   "cell_type": "code",
   "execution_count": 91,
   "id": "a49980dc",
   "metadata": {},
   "outputs": [
    {
     "data": {
      "text/html": [
       "\n",
       "  <style>\n",
       "    pre {\n",
       "        white-space: pre-wrap;\n",
       "    }\n",
       "  </style>\n",
       "  "
      ],
      "text/plain": [
       "<IPython.core.display.HTML object>"
      ]
     },
     "metadata": {},
     "output_type": "display_data"
    },
    {
     "data": {
      "text/plain": [
       "[436, 127, 445, 66, 114, 468, 1828]"
      ]
     },
     "execution_count": 91,
     "metadata": {},
     "output_type": "execute_result"
    }
   ],
   "source": [
    "length"
   ]
  },
  {
   "cell_type": "code",
   "execution_count": 92,
   "id": "ee9f6160",
   "metadata": {},
   "outputs": [
    {
     "data": {
      "text/html": [
       "\n",
       "  <style>\n",
       "    pre {\n",
       "        white-space: pre-wrap;\n",
       "    }\n",
       "  </style>\n",
       "  "
      ],
      "text/plain": [
       "<IPython.core.display.HTML object>"
      ]
     },
     "metadata": {},
     "output_type": "display_data"
    },
    {
     "data": {
      "text/plain": [
       "497.7142857142857"
      ]
     },
     "execution_count": 92,
     "metadata": {},
     "output_type": "execute_result"
    }
   ],
   "source": [
    "sum(length)/len(length)"
   ]
  },
  {
   "cell_type": "code",
   "execution_count": null,
   "id": "a48a2474",
   "metadata": {},
   "outputs": [],
   "source": []
  }
 ],
 "metadata": {
  "kernelspec": {
   "display_name": "Python 3.7 (Pytorch)",
   "language": "python",
   "name": "pytorch"
  },
  "language_info": {
   "codemirror_mode": {
    "name": "ipython",
    "version": 3
   },
   "file_extension": ".py",
   "mimetype": "text/x-python",
   "name": "python",
   "nbconvert_exporter": "python",
   "pygments_lexer": "ipython3",
   "version": "3.7.11"
  }
 },
 "nbformat": 4,
 "nbformat_minor": 5
}
